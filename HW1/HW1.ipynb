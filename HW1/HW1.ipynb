{
 "cells": [
  {
   "cell_type": "markdown",
   "metadata": {
    "collapsed": true,
    "pycharm": {
     "name": "#%% md\n"
    }
   },
   "source": [
    "<h1>Data Streaming Algorithms</h1>\n",
    "\n",
    "<h2>HW1</h2>\n",
    "\n",
    "Slava Salasin, 319238119\n",
    "TODO - Bayan"
   ]
  },
  {
   "cell_type": "markdown",
   "source": [
    "<h2>Dry Part\n",
    "\n",
    "<h3>Morris algorithm\n",
    "\n",
    "In order to"
   ],
   "metadata": {
    "collapsed": false,
    "pycharm": {
     "name": "#%% md\n"
    }
   }
  },
  {
   "cell_type": "markdown",
   "source": [
    "<h3>Reservoir sampling\n",
    "\n",
    "In class we proved the Reservoir sampling algorithm for $j>k$. Now we will provide a supplementary proof for $j<=k$.\n",
    "<br>\n",
    "$P[a_{j}\\ will\\ be\\ sampled] =_{1} P[a_{j}\\ will\\ not\\ be\\ replaced\\ on\\ j=k+1] \\cdot  ... \\cdot P[a_{j}\\ will\\ not\\ be\\ replaced\\ on\\ j=n] =_{2} (1 - P[a_{j}\\ will\\ be\\ replaced\\ on\\ j=k+1]) \\cdot  ... \\cdot (1 - P[a_{j}\\ will\\ be\\ replaced\\ on\\ j=n]) =_{3} (1 - \\dfrac{1}{k+1}) \\cdot  ... \\cdot (1 - \\dfrac{1}{n}) =_{4} \\dfrac{k}{k+1} \\cdot  ... \\cdot \\dfrac{n-1}{n} =_{5} \\dfrac{k}{n}$\n",
    "<br>\n",
    "1. If $a_{j}$ is sampled, then it's not replaced in iteration k+1 and k+2 etc.\n",
    "2. Probability complement.\n",
    "3. $P[a_{j}\\ will\\ be\\ replaced\\ on\\ j=k+1] = \\dfrac{k}{k+1} \\cdot \\dfrac{1}{k}$\n",
    "\n",
    "    $\\dfrac{k}{k+1}$ - The probability to sample an element from the stream is the sample size divided by the element index. $\\dfrac{1}{k}$ - The probabiliyy to replace a specific element from the sample is 1 divided by the size of the sample.\n",
    "\n",
    "4. Simple algebra.\n",
    "5. Simple algebra."
   ],
   "metadata": {
    "collapsed": false,
    "pycharm": {
     "name": "#%% md\n"
    }
   }
  },
  {
   "cell_type": "markdown",
   "source": [],
   "metadata": {
    "collapsed": false,
    "pycharm": {
     "name": "#%% md\n"
    }
   }
  },
  {
   "cell_type": "code",
   "execution_count": 33,
   "outputs": [],
   "source": [
    "import random\n",
    "import numpy as np\n",
    "\n",
    "random.seed(42)"
   ],
   "metadata": {
    "collapsed": false,
    "pycharm": {
     "name": "#%%\n"
    }
   }
  },
  {
   "cell_type": "code",
   "execution_count": 34,
   "outputs": [],
   "source": [
    "def fm_alpha():\n",
    "    pass"
   ],
   "metadata": {
    "collapsed": false,
    "pycharm": {
     "name": "#%%\n"
    }
   }
  },
  {
   "cell_type": "code",
   "execution_count": 35,
   "outputs": [],
   "source": [
    "def fm_beta():\n",
    "    pass"
   ],
   "metadata": {
    "collapsed": false,
    "pycharm": {
     "name": "#%%\n"
    }
   }
  },
  {
   "cell_type": "code",
   "execution_count": 36,
   "outputs": [],
   "source": [
    "def fm_final():\n",
    "    pass"
   ],
   "metadata": {
    "collapsed": false,
    "pycharm": {
     "name": "#%%\n"
    }
   }
  },
  {
   "cell_type": "code",
   "execution_count": 37,
   "outputs": [
    {
     "data": {
      "text/plain": "array([328,  58,  13, ..., 147, 142, 273])"
     },
     "execution_count": 37,
     "metadata": {},
     "output_type": "execute_result"
    }
   ],
   "source": [
    "stream = []\n",
    "for i in range(1, 10001):\n",
    "    count = random.sample(range(1, 501), k=1)\n",
    "    stream.extend(i for j in range(count[0]))\n",
    "\n",
    "u, counts = np.unique(stream, return_counts=True)\n",
    "counts"
   ],
   "metadata": {
    "collapsed": false,
    "pycharm": {
     "name": "#%%\n"
    }
   }
  },
  {
   "cell_type": "code",
   "execution_count": 37,
   "outputs": [],
   "source": [],
   "metadata": {
    "collapsed": false,
    "pycharm": {
     "name": "#%%\n"
    }
   }
  }
 ],
 "metadata": {
  "kernelspec": {
   "display_name": "Python 3",
   "language": "python",
   "name": "python3"
  },
  "language_info": {
   "codemirror_mode": {
    "name": "ipython",
    "version": 2
   },
   "file_extension": ".py",
   "mimetype": "text/x-python",
   "name": "python",
   "nbconvert_exporter": "python",
   "pygments_lexer": "ipython2",
   "version": "2.7.6"
  }
 },
 "nbformat": 4,
 "nbformat_minor": 0
}