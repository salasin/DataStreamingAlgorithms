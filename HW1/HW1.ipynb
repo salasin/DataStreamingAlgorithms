{
 "cells": [
  {
   "cell_type": "markdown",
   "metadata": {
    "collapsed": true,
    "pycharm": {
     "name": "#%% md\n"
    }
   },
   "source": [
    "<h1>Data Streaming Algorithms</h1>\n",
    "\n",
    "<h2>HW1</h2>"
   ]
  },
  {
   "cell_type": "markdown",
   "source": [
    "<h2>Dry Part\n",
    "\n",
    "<h3>Morris algorithm\n",
    "\n",
    "In order to reduce the space requirement to logloglog(n) bits we'll maintain a counter X that will estimate the size of loglog(n) (instead of log(n)), thus meeting the space requirements. To do that, we'll update the algorithm to increment X with probability $\\dfrac{1}{2^{2^j}}$.\n",
    "\n",
    "At this point, I would want to calculate $E[2^{2^X}]$ and prove it's $O(n)$. However, after several proof attempts it seems that actually $E[2^{2^X}] = 2^n + 1$ (proof attached below). This doesn't make sense to me because $X = O(loglog(n))$ and therefore due to log rules $2^{logY} = Y$ I'd expect that $2^{2^X} = O(n)$.\n",
    "\n",
    "I tried to run updated Morris version empirically which confirmed my suspicions that $E[2^{2^X}] = 2^n + 1$ is probably incorrect. At some point in the simulation, after processing $~1000$ elements the estimator's value was $X = 4$ which means $2^{2^X} = O(65k)$ but $2^n + 1 = O(2^{1000})$.\n",
    "\n",
    "Proof that $E[2^{2^X}] = 2^n + 1$ by induction:\n",
    "\n",
    "for $k$, we define $X_k$ to be the value of X after passing on $k$ elements from the stream.\n",
    "\n",
    "for $k = 0$, $X_0 = 0$ because no elements were processed yet:\n",
    "$E[2^{2^{X_k}}] = E[2^{2^{X_0}}] = 2 = 2^0 + 1 = 2^k + 1$\n",
    "\n",
    "Assuming $E[2^{2^{X_k}}] = 2^k + 1$:\n",
    "\n",
    "$E[2^{2^{X_{k+1}}}] =_1 \\sum_{j=0}^{\\infty} Pr[X_k = j] \\cdot E[2^{2^{X_{k+1}}} | X_k = j] =_2 \\sum_{j=0}^{\\infty} Pr[X_k = j] \\cdot (\\dfrac{1}{2^{2^j}} \\cdot 2^{2^{j+1}} + (1 - \\dfrac{1}{2^{2^j}}) \\cdot 2^{2^j}) =_3 \\sum_{j=0}^{\\infty} Pr[X_k = j] \\cdot (2 \\cdot 2^{2^j} - 1) =_4 2 \\cdot \\sum_{j=0}^{\\infty} Pr[X_k = j] \\cdot 2^{2^j} - \\sum_{j=0}^{\\infty} Pr[X_k = j] =_5 2 \\cdot E[2^{2^{X_k}}] - 1 =_6 2 \\cdot (2^k + 1) - 1 = 2^{k+1} + 1$\n",
    "\n",
    "1. Law of total expectation\n",
    "2. Expectation and Morris's estimator definitions\n",
    "3. Simple algebra\n",
    "4. Simple algebra\n",
    "5. Complete probability and expectation definitions\n",
    "6. Induction step"
   ],
   "metadata": {
    "collapsed": false,
    "pycharm": {
     "name": "#%% md\n"
    }
   }
  },
  {
   "cell_type": "markdown",
   "source": [
    "<h3>Reservoir sampling\n",
    "\n",
    "In class we proved the Reservoir sampling algorithm for $j>k$. Now we will provide a supplementary proof for $j<=k$.\n",
    "<br>\n",
    "$P[a_{j}\\ will\\ be\\ sampled] =_{1} P[a_{j}\\ will\\ not\\ be\\ replaced\\ on\\ j=k+1] \\cdot  ... \\cdot P[a_{j}\\ will\\ not\\ be\\ replaced\\ on\\ j=n] =_{2} (1 - P[a_{j}\\ will\\ be\\ replaced\\ on\\ j=k+1]) \\cdot  ... \\cdot (1 - P[a_{j}\\ will\\ be\\ replaced\\ on\\ j=n]) =_{3} (1 - \\dfrac{1}{k+1}) \\cdot  ... \\cdot (1 - \\dfrac{1}{n}) =_{4} \\dfrac{k}{k+1} \\cdot  ... \\cdot \\dfrac{n-1}{n} =_{5} \\dfrac{k}{n}$\n",
    "<br>\n",
    "1. If $a_{j}$ is sampled, then it's not replaced in iteration k+1 and k+2 etc.\n",
    "2. Probability complement.\n",
    "3. $P[a_{j}\\ will\\ be\\ replaced\\ on\\ j=k+1] = \\dfrac{k}{k+1} \\cdot \\dfrac{1}{k}$\n",
    "\n",
    "    $\\dfrac{k}{k+1}$ - The probability to sample an element from the stream is the sample size divided by the element index. $\\dfrac{1}{k}$ - The probabiliyy to replace a specific element from the sample is 1 divided by the size of the sample.\n",
    "\n",
    "4. Simple algebra.\n",
    "5. Simple algebra."
   ],
   "metadata": {
    "collapsed": false,
    "pycharm": {
     "name": "#%% md\n"
    }
   }
  },
  {
   "cell_type": "markdown",
   "source": [
    "<h2> Wet Part"
   ],
   "metadata": {
    "collapsed": false,
    "pycharm": {
     "name": "#%% md\n"
    }
   }
  },
  {
   "cell_type": "markdown",
   "source": [],
   "metadata": {
    "collapsed": false,
    "pycharm": {
     "name": "#%% md\n"
    }
   }
  },
  {
   "cell_type": "code",
   "execution_count": 26,
   "outputs": [],
   "source": [
    "import math\n",
    "import numpy as np\n",
    "import matplotlib.pyplot as plt\n",
    "\n",
    "np.random.seed(42)"
   ],
   "metadata": {
    "collapsed": false,
    "pycharm": {
     "name": "#%%\n"
    }
   }
  },
  {
   "cell_type": "code",
   "execution_count": 27,
   "outputs": [],
   "source": [
    "def fm_alpha(stream_arg):\n",
    "    hash_function = dict(map(lambda key, value: (key, value), range(1, 10001), np.random.uniform(0, 1, 10000)))\n",
    "    x = 1\n",
    "    for s in stream_arg:\n",
    "        h_a = hash_function.get(s)\n",
    "        if h_a < x:\n",
    "            x = h_a\n",
    "    return int(1 / x), x"
   ],
   "metadata": {
    "collapsed": false,
    "pycharm": {
     "name": "#%%\n"
    }
   }
  },
  {
   "cell_type": "code",
   "execution_count": 28,
   "outputs": [],
   "source": [
    "def fm_beta(stream_arg, alpha_instances_arg):\n",
    "    x_s = []\n",
    "    for _ in range(alpha_instances_arg):\n",
    "        _, min_hash = fm_alpha(stream_arg)\n",
    "        x_s.append(min_hash)\n",
    "    return int((1 / np.mean(x_s)) - 1)"
   ],
   "metadata": {
    "collapsed": false,
    "pycharm": {
     "name": "#%%\n"
    }
   }
  },
  {
   "cell_type": "code",
   "execution_count": 29,
   "outputs": [],
   "source": [
    "def fm_final(stream_arg, beta_instances_arg, alpha_instances_arg):\n",
    "    z_t = []\n",
    "    for _ in range(beta_instances_arg):\n",
    "        z_t.append(fm_beta(stream_arg, alpha_instances_arg))\n",
    "    return np.median(z_t)"
   ],
   "metadata": {
    "collapsed": false,
    "pycharm": {
     "name": "#%%\n"
    }
   }
  },
  {
   "cell_type": "code",
   "execution_count": 30,
   "outputs": [
    {
     "name": "stdout",
     "output_type": "stream",
     "text": [
      "unique elements in stream 10000\n",
      "total elements in stream 100000\n",
      "FM alpha unique elements estimation 5709\n"
     ]
    }
   ],
   "source": [
    "# Generates a stream with the values 1 - 10000 with uniformly distributed frequencies between 10 - 25.\n",
    "stream = []\n",
    "for i in range(1, 10001):\n",
    "    stream.extend(i for j in range(10))\n",
    "np.random.shuffle(stream)\n",
    "unique, counts = np.unique(stream, return_counts=True)\n",
    "print(f'unique elements in stream {len(unique)}')\n",
    "print(f'total elements in stream {sum(counts)}')\n",
    "uniques, _ = fm_alpha(stream)\n",
    "print(f'FM alpha unique elements estimation {uniques}')"
   ],
   "metadata": {
    "collapsed": false,
    "pycharm": {
     "name": "#%%\n"
    }
   }
  },
  {
   "cell_type": "code",
   "execution_count": 31,
   "outputs": [],
   "source": [
    "# I'm attaching precomputed results to save the long computation time. If required, delete the next cell to rerun the computation.\n",
    "precomputed_results_available = False"
   ],
   "metadata": {
    "collapsed": false,
    "pycharm": {
     "name": "#%%\n"
    }
   }
  },
  {
   "cell_type": "code",
   "execution_count": 32,
   "outputs": [],
   "source": [
    "precomputed_results_available = True\n",
    "study_results = {\n",
    "    (1, 10): [7345.0, 4747.0, 15160.0, 12956.0, 9229.0, 6129.0, 8970.0, 14683.0, 7691.0,\n",
    "                                       10907.0, 7245.0, 12390.0, 12112.0, 10689.0, 7219.0, 10224.0, 10993.0, 10771.0,\n",
    "                                       12385.0, 9474.0, 9599.0, 11345.0, 17927.0, 9329.0, 11514.0, 8683.0, 10723.0,\n",
    "                                       10181.0, 11455.0, 10634.0, 8572.0, 13102.0, 7341.0, 10685.0, 17369.0, 9753.0,\n",
    "                                       9452.0, 10106.0, 5275.0, 13891.0, 16354.0, 10542.0, 9781.0, 9631.0, 15386.0,\n",
    "                                       5864.0, 11829.0, 5940.0, 12644.0, 8938.0],\n",
    "    (1, 25): [10483.0, 9993.0, 12945.0, 11093.0, 9852.0, 17030.0, 8562.0, 13353.0, 9311.0,\n",
    "                                       8565.0, 10817.0, 6991.0, 13166.0, 11770.0, 11446.0, 11342.0, 9147.0, 9857.0,\n",
    "                                       8880.0, 12756.0, 10566.0, 11877.0, 9861.0, 12830.0, 8057.0, 10321.0, 7474.0,\n",
    "                                       7690.0, 11266.0, 8228.0, 9060.0, 12837.0, 7117.0, 11101.0, 11008.0, 8905.0,\n",
    "                                       8964.0, 12151.0, 12997.0, 9160.0, 9752.0, 10567.0, 9903.0, 13326.0, 13320.0,\n",
    "                                       9058.0, 9514.0, 7810.0, 11189.0, 8444.0],\n",
    "    (1, 50): [10805.0, 12315.0, 11622.0, 11062.0, 10375.0, 10972.0, 9994.0, 10012.0, 12096.0,\n",
    "                                       11501.0, 8394.0, 8690.0, 8308.0, 9303.0, 7817.0, 10444.0, 11555.0, 12792.0,\n",
    "                                       10658.0, 11401.0, 7972.0, 11796.0, 9417.0, 9289.0, 9955.0, 11621.0, 9866.0,\n",
    "                                       11109.0, 9151.0, 11817.0, 9649.0, 11361.0, 10301.0, 9381.0, 12131.0, 9119.0,\n",
    "                                       10206.0, 7624.0, 7653.0, 8985.0, 10353.0, 11380.0, 12086.0, 9532.0, 9402.0,\n",
    "                                       11108.0, 8094.0, 9505.0, 10288.0, 9002.0],\n",
    "    (10, 10): [10608.0, 10987.5, 10061.5, 11659.5, 10298.0, 10775.0, 11130.5, 11423.5, 10277.0,\n",
    "                                        10437.0, 10811.0, 10494.0, 10527.0, 11851.5, 9915.0, 11493.0, 8198.5, 10452.5,\n",
    "                                        9799.5, 9753.0, 9269.5, 10822.0, 9412.5, 9006.0, 8687.0, 12325.5, 8585.5,\n",
    "                                        9414.5, 10635.5, 9695.5, 9963.5, 11174.5, 10912.0, 8973.0, 9969.0, 12331.0,\n",
    "                                        10616.5, 9280.5, 10064.0, 9719.5, 11517.5, 10490.0, 11251.5, 9396.5, 9295.5,\n",
    "                                        12766.0, 10015.0, 10163.0, 10331.5, 11562.0],\n",
    "    (10, 25): [9386.5, 10027.0, 8876.5, 9681.0, 9377.5, 11194.5, 10316.5, 10151.0, 8821.0,\n",
    "                                        10380.5, 9124.5, 11534.0, 9763.0, 10764.0, 11327.0, 8774.5, 9155.0, 10235.0,\n",
    "                                        9678.5, 9830.5, 9606.0, 9100.5, 9974.5, 10756.5, 10159.0, 11104.5, 9417.5,\n",
    "                                        9986.5, 10650.0, 10248.5, 10109.5, 10234.0, 9713.5, 9992.0, 9720.0, 8789.5,\n",
    "                                        10373.0, 10426.5, 10972.0, 10190.0, 9704.5, 11296.5, 11098.0, 10480.5, 10301.0,\n",
    "                                        10496.5, 9401.0, 9635.0, 11305.5, 10306.5],\n",
    "    (10, 50): [10347.5, 9773.5, 9985.0, 9856.0, 11425.5, 9504.0, 10343.0, 9963.0, 10714.0,\n",
    "                                        10098.5, 10261.5, 10978.5, 10335.0, 9250.5, 9165.5, 10314.0, 10584.5, 9884.5,\n",
    "                                        9138.5, 9917.0, 10204.5, 9723.0, 10752.0, 9949.5, 9933.5, 10523.0, 10045.0,\n",
    "                                        10787.5, 10255.5, 10615.5, 10370.5, 9901.5, 10471.5, 9772.0, 11189.5, 9646.5,\n",
    "                                        9228.5, 9844.0, 9538.0, 10713.5, 9931.5, 9463.5, 8765.5, 10567.0, 9997.5,\n",
    "                                        8950.5, 9696.5, 10569.0, 10376.0, 9652.5],\n",
    "    (25, 10): [10222.0, 10810.0, 10482.0, 11518.0, 9268.0, 10186.0, 12543.0, 10110.0, 10028.0,\n",
    "                                        10406.0, 11424.0, 10696.0, 9149.0, 10712.0, 9525.0, 9811.0, 10133.0, 11415.0,\n",
    "                                        9994.0, 11438.0, 11011.0, 10397.0, 10595.0, 10387.0, 10331.0, 10542.0, 10953.0,\n",
    "                                        10889.0, 11156.0, 10746.0, 10850.0, 12781.0, 10401.0, 10038.0, 11364.0, 10915.0,\n",
    "                                        10798.0, 10645.0, 10142.0, 10108.0, 9230.0, 9668.0, 10262.0, 11099.0, 10653.0,\n",
    "                                        10050.0, 10748.0, 9584.0, 11242.0, 10910.0],\n",
    "    (25, 25): [10456.0, 9042.0, 9181.0, 9838.0, 9794.0, 10592.0, 10700.0, 10813.0, 10056.0,\n",
    "                                        9726.0, 9964.0, 11012.0, 9798.0, 10451.0, 11206.0, 10276.0, 10531.0, 10205.0,\n",
    "                                        10376.0, 10231.0, 9490.0, 9963.0, 11103.0, 10186.0, 10251.0, 9973.0, 9908.0,\n",
    "                                        9592.0, 10771.0, 10936.0, 10385.0, 11114.0, 9647.0, 10082.0, 10333.0, 9458.0,\n",
    "                                        9701.0, 10685.0, 9823.0, 10040.0, 11384.0, 10293.0, 10072.0, 9717.0, 10296.0,\n",
    "                                        10135.0, 9717.0, 10789.0, 10156.0, 10328.0],\n",
    "    (25, 50): [10119.0, 10077.0, 10572.0, 10134.0, 9464.0, 10139.0, 10485.0, 9682.0, 10228.0,\n",
    "                                        9646.0, 10545.0, 9910.0, 10108.0, 9711.0, 10430.0, 9766.0, 10322.0, 10168.0,\n",
    "                                        10462.0, 9830.0, 10097.0, 9425.0, 10483.0, 9854.0, 9949.0, 10074.0, 10027.0,\n",
    "                                        10145.0, 9664.0, 10097.0, 10209.0, 9975.0, 9626.0, 10612.0, 10059.0, 10083.0,\n",
    "                                        10298.0, 9949.0, 9511.0, 9931.0, 10426.0, 9313.0, 10406.0, 10379.0, 10059.0,\n",
    "                                        10406.0, 10095.0, 10522.0, 10467.0, 10639.0],\n",
    "    (50, 10): [10516.0, 10806.5, 9880.5, 10719.5, 10347.0, 11197.5, 9554.5, 9672.5, 11255.0,\n",
    "                                        10938.0, 10449.0, 10528.5, 10363.0, 10921.0, 10922.5, 12140.0, 10132.0, 11139.5,\n",
    "                                        10649.5, 10125.0, 9536.5, 10867.0, 10477.5, 9896.0, 11240.0, 10584.5, 9869.0,\n",
    "                                        9895.5, 9497.0, 10420.0, 9813.0, 10859.0, 10911.0, 10039.5, 11721.0, 9620.0,\n",
    "                                        10857.0, 10614.5, 10050.5, 10519.0, 10605.5, 10374.0, 10136.5, 10865.5, 9671.0,\n",
    "                                        10701.0, 10825.5, 10260.5, 10306.5, 11102.0],\n",
    "    (50, 25): [9703.0, 10496.0, 10031.5, 9874.5, 10805.5, 10551.5, 9985.0, 9989.5, 10303.0,\n",
    "                                        9931.5, 10585.0, 9851.0, 10194.0, 9804.5, 10284.5, 10186.5, 10371.0, 10526.0,\n",
    "                                        10668.0, 9784.0, 10828.0, 10045.0, 9650.0, 10196.0, 9565.0, 10416.0, 10579.0,\n",
    "                                        9931.0, 9880.5, 10821.5, 9548.0, 10099.5, 10265.5, 10363.5, 9891.0, 9631.5,\n",
    "                                        9807.0, 10414.0, 10212.0, 9899.5, 10201.5, 9789.0, 9782.0, 9940.5, 10176.0,\n",
    "                                        10432.5, 9996.5, 9702.0, 10756.0, 9679.5],\n",
    "    (50, 50): [10147.5, 9883.5, 10211.0, 9911.5, 10249.0, 10326.5, 10494.5, 9948.5, 10392.5,\n",
    "                                        10282.5, 9805.0, 10114.5, 9943.0, 10502.5, 10452.0, 9994.0, 10267.0, 10438.5,\n",
    "                                        10254.5, 10249.0, 10013.5, 9856.0, 9683.5, 9886.5, 10265.5, 10101.5, 10088.0,\n",
    "                                        10217.5, 10158.5, 9865.5, 10344.5, 10237.0, 10294.0, 10128.5, 9624.5, 10364.5,\n",
    "                                        10162.0, 9839.0, 10073.0, 10104.0, 10387.0, 10142.0, 9965.0, 10288.5, 10213.0,\n",
    "                                        10160.0, 10059.0, 9863.0, 10653.5, 10344.0]}"
   ],
   "metadata": {
    "collapsed": false,
    "pycharm": {
     "name": "#%%\n"
    }
   }
  },
  {
   "cell_type": "code",
   "execution_count": 33,
   "outputs": [],
   "source": [
    "# Question 3.a + 3.b\n",
    "if precomputed_results_available is False:\n",
    "    experiments_count = 50\n",
    "    study_results = {}\n",
    "    # Running a single instance of fm_beta is the same as running fm_final with a single instance of fm_beta, so I arranged the computation in the following way to avoid duplication.\n",
    "    for beta_instances in [1, 10, 25, 50]:\n",
    "        for alpha_instances in [10, 25, 50]:\n",
    "            results = []\n",
    "            for _ in range(experiments_count):\n",
    "                results.append(fm_final(stream, beta_instances, alpha_instances))\n",
    "            study_results[(beta_instances, alpha_instances)] = results"
   ],
   "metadata": {
    "collapsed": false,
    "pycharm": {
     "name": "#%%\n"
    }
   }
  },
  {
   "cell_type": "markdown",
   "source": [
    "# Question 3.c\n",
    "\n",
    "When we run a single fm_beta instance with some fm_alpha instances, we learned that the connection between the number of instances, the success probability and the relative error is $s = \\dfrac{1}{\\epsilon^2\\cdot\\delta}$.\n",
    "Therefore, we get that the relative error is $\\epsilon = \\sqrt{\\dfrac{1}{s\\cdot\\delta}}$"
   ],
   "metadata": {
    "collapsed": false,
    "pycharm": {
     "name": "#%% md\n"
    }
   }
  },
  {
   "cell_type": "code",
   "execution_count": 34,
   "outputs": [
    {
     "name": "stdout",
     "output_type": "stream",
     "text": [
      "The relative error for 1 fm_beta instance with 10 fm_alpha instances and success probability of 0.95 is 1.4142135623730951\n",
      "The relative error for 1 fm_beta instance with 25 fm_alpha instances and success probability of 0.95 is 0.8944271909999159\n",
      "The relative error for 1 fm_beta instance with 50 fm_alpha instances and success probability of 0.95 is 0.6324555320336759\n"
     ]
    }
   ],
   "source": [
    "for alpha_instances in [10, 25, 50]:\n",
    "    print(f'The relative error for 1 fm_beta instance with {alpha_instances} fm_alpha instances and success probability of 0.95 is {math.sqrt(1 / (alpha_instances * 0.05))}')"
   ],
   "metadata": {
    "collapsed": false,
    "pycharm": {
     "name": "#%%\n"
    }
   }
  },
  {
   "cell_type": "markdown",
   "source": [
    "When we run a single fm final instance with some fm_beta instances, we learned that the connection between the number of instances, the success probability and the relative error is $t = \\dfrac{1}{\\epsilon^2} \\cdot log\\dfrac{1}{\\delta}$.\n",
    "Therefore, we get that the relative error is $\\epsilon = \\sqrt{\\dfrac{log\\dfrac{1}{\\delta}}{t}}$"
   ],
   "metadata": {
    "collapsed": false,
    "pycharm": {
     "name": "#%% md\n"
    }
   }
  },
  {
   "cell_type": "code",
   "execution_count": 35,
   "outputs": [
    {
     "name": "stdout",
     "output_type": "stream",
     "text": [
      "The relative error for 1 fm_final instance with 10 fm_beta instances and success probability of 0.95 is 0.6574137277915151\n",
      "The relative error for 1 fm_final instance with 25 fm_beta instances and success probability of 0.95 is 0.4157849489766248\n",
      "The relative error for 1 fm_final instance with 50 fm_beta instances and success probability of 0.95 is 0.2940043569366741\n"
     ]
    }
   ],
   "source": [
    "for beta_instances in [10, 25, 50]:\n",
    "    print(f'The relative error for 1 fm_final instance with {beta_instances} fm_beta instances and success probability of 0.95 is {math.sqrt(math.log2(1 / 0.05) / beta_instances)}')"
   ],
   "metadata": {
    "collapsed": false,
    "pycharm": {
     "name": "#%%\n"
    }
   }
  },
  {
   "cell_type": "code",
   "execution_count": 36,
   "outputs": [
    {
     "name": "stdout",
     "output_type": "stream",
     "text": [
      "Accuracy\n"
     ]
    },
    {
     "data": {
      "text/plain": "<Figure size 1440x432 with 4 Axes>",
      "image/png": "[encoded data removed]"
     },
     "metadata": {
      "needs_background": "light"
     },
     "output_type": "display_data"
    }
   ],
   "source": [
    "# Question 4\n",
    "\n",
    "print('Accuracy')\n",
    "f, ax = plt.subplots(1, 4, figsize=(20, 6))\n",
    "for i, beta_instances in enumerate([1, 10, 25, 50]):\n",
    "    ax[i].plot(range(10), [len(unique) for _ in range(10)], label=f'real value')\n",
    "    for alpha_instances in [10, 25, 50]:\n",
    "        ax[i].set_title(f'{beta_instances} beta instances')\n",
    "        ax[i].plot(range(10), [np.mean(study_results[(beta_instances, alpha_instances)]) for _ in range(10)], label=f'{alpha_instances} alpha instances')\n",
    "        ax[i].legend()"
   ],
   "metadata": {
    "collapsed": false,
    "pycharm": {
     "name": "#%%\n"
    }
   }
  },
  {
   "cell_type": "code",
   "execution_count": 37,
   "outputs": [
    {
     "name": "stdout",
     "output_type": "stream",
     "text": [
      "Normalized variance\n"
     ]
    },
    {
     "data": {
      "text/plain": "<Figure size 1440x432 with 4 Axes>",
      "image/png": "[encoded data removed]"
     },
     "metadata": {
      "needs_background": "light"
     },
     "output_type": "display_data"
    }
   ],
   "source": [
    "print('Normalized variance')\n",
    "f, ax = plt.subplots(1, 4, figsize=(20, 6))\n",
    "for i, beta_instances in enumerate([1, 10, 25, 50]):\n",
    "    for alpha_instances in [10, 25, 50]:\n",
    "        ax[i].set_title(f'{beta_instances} beta instances')\n",
    "        ax[i].plot(range(10), [(np.var(study_results[(beta_instances, alpha_instances)]) / len(unique)) for _ in range(10)], label=f'{alpha_instances} alpha instances')\n",
    "        ax[i].legend()"
   ],
   "metadata": {
    "collapsed": false,
    "pycharm": {
     "name": "#%%\n"
    }
   }
  },
  {
   "cell_type": "markdown",
   "source": [
    "From the plots we can see that there's a consistent improvement (the result is closer to the real value) when increasing the number of alpha instances once the number of beta instances is set (except for the 50 beta instances diagram where we got a better result for 25 alphas which is of course possible but improbable and is also affected by the size of the stream and the uniques set). In other words, the bias (difference of the estimator from the real value) gets smaller as we increase the number of alpha and beta instances.\n",
    "\n",
    "We can also see that the variance of the estimators is consistently smaller as we increase the amount of beta and alpha instances which means that the results get closer to the real value."
   ],
   "metadata": {
    "collapsed": false,
    "pycharm": {
     "name": "#%% md\n"
    }
   }
  }
 ],
 "metadata": {
  "kernelspec": {
   "display_name": "Python 3",
   "language": "python",
   "name": "python3"
  },
  "language_info": {
   "codemirror_mode": {
    "name": "ipython",
    "version": 2
   },
   "file_extension": ".py",
   "mimetype": "text/x-python",
   "name": "python",
   "nbconvert_exporter": "python",
   "pygments_lexer": "ipython2",
   "version": "2.7.6"
  }
 },
 "nbformat": 4,
 "nbformat_minor": 0
}