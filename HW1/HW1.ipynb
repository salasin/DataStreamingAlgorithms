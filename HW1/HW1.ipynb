{
 "cells": [
  {
   "cell_type": "markdown",
   "metadata": {
    "collapsed": true,
    "pycharm": {
     "name": "#%% md\n"
    }
   },
   "source": [
    "<h1>Data Streaming Algorithms</h1>\n",
    "\n",
    "<h2>HW1</h2>\n",
    "\n",
    "Slava Salasin, 319238119\n",
    "TODO - Bayan"
   ]
  },
  {
   "cell_type": "markdown",
   "source": [
    "<h2>Dry Part\n",
    "\n",
    "<h3>Morris algorithm\n",
    "\n",
    "In order to"
   ],
   "metadata": {
    "collapsed": false,
    "pycharm": {
     "name": "#%% md\n"
    }
   }
  },
  {
   "cell_type": "markdown",
   "source": [
    "<h3>Reservoir sampling\n",
    "\n",
    "In class we proved the Reservoir sampling algorithm for $j>k$. Now we will provide a supplementary proof for $j<=k$.\n",
    "<br>\n",
    "$P[a_{j}\\ will\\ be\\ sampled] =_{1} P[a_{j}\\ will\\ not\\ be\\ replaced\\ on\\ j=k+1] \\cdot  ... \\cdot P[a_{j}\\ will\\ not\\ be\\ replaced\\ on\\ j=n] =_{2} (1 - P[a_{j}\\ will\\ be\\ replaced\\ on\\ j=k+1]) \\cdot  ... \\cdot (1 - P[a_{j}\\ will\\ be\\ replaced\\ on\\ j=n]) =_{3} (1 - \\dfrac{1}{k+1}) \\cdot  ... \\cdot (1 - \\dfrac{1}{n}) =_{4} \\dfrac{k}{k+1} \\cdot  ... \\cdot \\dfrac{n-1}{n} =_{5} \\dfrac{k}{n}$\n",
    "<br>\n",
    "1. If $a_{j}$ is sampled, then it's not replaced in iteration k+1 and k+2 etc.\n",
    "2. Probability complement.\n",
    "3. $P[a_{j}\\ will\\ be\\ replaced\\ on\\ j=k+1] = \\dfrac{k}{k+1} \\cdot \\dfrac{1}{k}$\n",
    "\n",
    "    $\\dfrac{k}{k+1}$ - The probability to sample an element from the stream is the sample size divided by the element index. $\\dfrac{1}{k}$ - The probabiliyy to replace a specific element from the sample is 1 divided by the size of the sample.\n",
    "\n",
    "4. Simple algebra.\n",
    "5. Simple algebra."
   ],
   "metadata": {
    "collapsed": false,
    "pycharm": {
     "name": "#%% md\n"
    }
   }
  },
  {
   "cell_type": "markdown",
   "source": [],
   "metadata": {
    "collapsed": false,
    "pycharm": {
     "name": "#%% md\n"
    }
   }
  },
  {
   "cell_type": "code",
   "execution_count": 243,
   "outputs": [],
   "source": [
    "import numpy as np\n",
    "\n",
    "np.random.seed(42)"
   ],
   "metadata": {
    "collapsed": false,
    "pycharm": {
     "name": "#%%\n"
    }
   }
  },
  {
   "cell_type": "code",
   "execution_count": null,
   "outputs": [],
   "source": [
    "def simulate(experiment_func, experiment_func_input):\n",
    "    results = []\n",
    "    for simulation in range(50):\n",
    "        results.append(experiment_func(experiment_func_input))\n",
    "    return int(np.mean(results))"
   ],
   "metadata": {
    "collapsed": false,
    "pycharm": {
     "name": "#%%\n"
    }
   }
  },
  {
   "cell_type": "code",
   "execution_count": 244,
   "outputs": [],
   "source": [
    "def fm_alpha(stream_arg):\n",
    "    hash_function = dict(map(lambda key, value : (key, value) , range(1, 10001), np.random.uniform(0, 1, 10000)))\n",
    "    x = 1\n",
    "    for s in stream_arg:\n",
    "        h_a = hash_function.get(s)\n",
    "        if h_a < x:\n",
    "            x = h_a\n",
    "    return int(1 / x), x"
   ],
   "metadata": {
    "collapsed": false,
    "pycharm": {
     "name": "#%%\n"
    }
   }
  },
  {
   "cell_type": "code",
   "execution_count": 245,
   "outputs": [],
   "source": [
    "def fm_beta(stream_arg, instances_arg = None):\n",
    "    x_s = []\n",
    "    for _ in range(instances_arg):\n",
    "        _, min_hash = fm_alpha(stream_arg)\n",
    "        x_s.append(min_hash)\n",
    "    return int((1 / np.mean(x_s)) - 1)"
   ],
   "metadata": {
    "collapsed": false,
    "pycharm": {
     "name": "#%%\n"
    }
   }
  },
  {
   "cell_type": "code",
   "execution_count": 246,
   "outputs": [],
   "source": [
    "def fm_final():\n",
    "    pass"
   ],
   "metadata": {
    "collapsed": false,
    "pycharm": {
     "name": "#%%\n"
    }
   }
  },
  {
   "cell_type": "code",
   "execution_count": 247,
   "outputs": [
    {
     "name": "stdout",
     "output_type": "stream",
     "text": [
      "unique elements in stream 10000\n",
      "total elements in stream 300172\n",
      "FM alpha unique elements estimation 435126\n"
     ]
    }
   ],
   "source": [
    "stream = []\n",
    "for i in range(1, 10001):\n",
    "    stream.extend(i for j in range(np.random.randint(10, 50 + 1)))\n",
    "np.random.shuffle(stream)\n",
    "unique, counts = np.unique(stream, return_counts=True)\n",
    "print(f'unique elements in stream {len(unique)}')\n",
    "print(f'total elements in stream {sum(counts)}')\n",
    "uniques, _ = fm_alpha(stream)\n",
    "print(f'FM alpha unique elements estimation {uniques}')"
   ],
   "metadata": {
    "collapsed": false,
    "pycharm": {
     "name": "#%%\n"
    }
   }
  },
  {
   "cell_type": "code",
   "execution_count": 248,
   "outputs": [
    {
     "name": "stdout",
     "output_type": "stream",
     "text": [
      "FM beta with 10 instances yields 13619 unique elements in the stream\n",
      "FM beta with 25 instances yields 12565 unique elements in the stream\n",
      "FM beta with 50 instances yields 8587 unique elements in the stream\n"
     ]
    }
   ],
   "source": [
    "for instances in [10, 25, 50]:\n",
    "\n",
    "    print(f'FM beta with {instances} instances yields {fm_beta(stream, instances)} unique elements in the stream')"
   ],
   "metadata": {
    "collapsed": false,
    "pycharm": {
     "name": "#%%\n"
    }
   }
  },
  {
   "cell_type": "code",
   "execution_count": 248,
   "outputs": [],
   "source": [],
   "metadata": {
    "collapsed": false,
    "pycharm": {
     "name": "#%%\n"
    }
   }
  }
 ],
 "metadata": {
  "kernelspec": {
   "display_name": "Python 3",
   "language": "python",
   "name": "python3"
  },
  "language_info": {
   "codemirror_mode": {
    "name": "ipython",
    "version": 2
   },
   "file_extension": ".py",
   "mimetype": "text/x-python",
   "name": "python",
   "nbconvert_exporter": "python",
   "pygments_lexer": "ipython2",
   "version": "2.7.6"
  }
 },
 "nbformat": 4,
 "nbformat_minor": 0
}