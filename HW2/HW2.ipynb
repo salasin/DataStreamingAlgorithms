{
 "cells": [
  {
   "cell_type": "code",
   "execution_count": 222,
   "metadata": {
    "collapsed": true,
    "pycharm": {
     "name": "#%%\n"
    }
   },
   "outputs": [],
   "source": [
    "import pandas as pd\n",
    "import numpy as np"
   ]
  },
  {
   "cell_type": "code",
   "execution_count": 223,
   "outputs": [
    {
     "name": "stdout",
     "output_type": "stream",
     "text": [
      "numer of unique source ips: 9640\n"
     ]
    }
   ],
   "source": [
    "data = pd.read_csv('2017-07-03.csv')\n",
    "source_ips = data.loc[:, 'ipv4Src']\n",
    "unique_source_ips = len(source_ips.unique())\n",
    "print(f'numer of unique source ips: {unique_source_ips}')"
   ],
   "metadata": {
    "collapsed": false,
    "pycharm": {
     "name": "#%%\n"
    }
   }
  },
  {
   "cell_type": "code",
   "execution_count": 224,
   "outputs": [
    {
     "name": "stdout",
     "output_type": "stream",
     "text": [
      "true frequency of 35.160.100.86 is: 753\n"
     ]
    }
   ],
   "source": [
    "true_frequencies = {}\n",
    "for source_ip in source_ips:\n",
    "    true_frequencies[source_ip] = true_frequencies.get(source_ip, 0) + 1\n",
    "\n",
    "print(f'true frequency of 35.160.100.86 is: {true_frequencies[\"35.160.100.86\"]}')"
   ],
   "metadata": {
    "collapsed": false,
    "pycharm": {
     "name": "#%%\n"
    }
   }
  },
  {
   "cell_type": "code",
   "execution_count": 225,
   "outputs": [],
   "source": [
    "def init_hash_functions(d, w):\n",
    "    # Generates perfect hash functions from source ips to values between 0 to w - 1.\n",
    "    hash_functions = []\n",
    "    for _ in range(d):\n",
    "        hash_functions.append(dict(map(lambda key, value: (key, value), source_ips.unique(), np.random.randint(0, w, len(source_ips.unique())))))\n",
    "    return hash_functions"
   ],
   "metadata": {
    "collapsed": false,
    "pycharm": {
     "name": "#%%\n"
    }
   }
  },
  {
   "cell_type": "markdown",
   "source": [
    "## Count Min Sketch"
   ],
   "metadata": {
    "collapsed": false,
    "pycharm": {
     "name": "#%% md\n"
    }
   }
  },
  {
   "cell_type": "code",
   "execution_count": 226,
   "outputs": [],
   "source": [
    "class CountMinSketch:\n",
    "    def __init__(self, stream, d, w, morris_sigma=0.2, morris_delta=0.9, use_morris_counters=True):\n",
    "        self.d = d\n",
    "        self.w = w\n",
    "        self.morris_estimators_num = int(1 / (morris_delta * (morris_sigma ** 2)))\n",
    "        self.use_morris_counters = use_morris_counters\n",
    "        self.hash_functions = init_hash_functions(d, w)\n",
    "        self.sketch = self.create_sketch(stream, d, w)\n",
    "\n",
    "    def create_sketch(self, stream, d, w):\n",
    "        sketch = {}\n",
    "\n",
    "        for i, item in enumerate(stream):\n",
    "            for j, hash_function in enumerate(self.hash_functions):\n",
    "                if self.use_morris_counters:\n",
    "                    morris_estimators = sketch.get((j, hash_function[item]), [0 for _ in range(self.morris_estimators_num)])\n",
    "                    for k in range(self.morris_estimators_num):\n",
    "                        p = 1 / (2 ** morris_estimators[k])\n",
    "                        if p >= np.random.uniform(0, 1):\n",
    "                            morris_estimators[k] += 1\n",
    "                    sketch[(j, hash_function[item])] = morris_estimators\n",
    "                else:\n",
    "                    sketch[(j, hash_function[item])] = sketch.get((j, hash_function[item]), 0) + 1\n",
    "        return sketch\n",
    "\n",
    "    def query(self, item):\n",
    "        if self.use_morris_counters:\n",
    "            hash_values = []\n",
    "            for i, hash_function in enumerate(self.hash_functions):\n",
    "                morris_estimators = self.sketch[(i, hash_function[item])]\n",
    "                processed_morris_estimators = [2 ** estimator - 1 for estimator in morris_estimators]\n",
    "                hash_values.append(sum(processed_morris_estimators) / len(processed_morris_estimators))\n",
    "            return min(hash_values)\n",
    "        else :\n",
    "            hash_values = [self.sketch[(i, hash_function[item])] for i, hash_function in enumerate(self.hash_functions)]\n",
    "            return min(hash_values)"
   ],
   "metadata": {
    "collapsed": false,
    "pycharm": {
     "name": "#%%\n"
    }
   }
  },
  {
   "cell_type": "code",
   "execution_count": 227,
   "outputs": [],
   "source": [
    "def evaluate_avg_bias(items, sketch, true_frequencies):\n",
    "    unique_items = items.unique()\n",
    "    bias_per_item = []\n",
    "    for item in unique_items:\n",
    "        true_frequency = true_frequencies[item]\n",
    "        estimated_frequency = sketch.query(item)\n",
    "        bias = float(estimated_frequency / true_frequency)\n",
    "        normalized_bias = 1 - bias if bias <= 1 else bias - 1\n",
    "        bias_per_item.append(normalized_bias)\n",
    "    return round(sum(bias_per_item) / len(bias_per_item), 2)"
   ],
   "metadata": {
    "collapsed": false,
    "pycharm": {
     "name": "#%%\n"
    }
   }
  },
  {
   "cell_type": "code",
   "execution_count": 228,
   "outputs": [
    {
     "ename": "KeyboardInterrupt",
     "evalue": "",
     "output_type": "error",
     "traceback": [
      "\u001B[0;31m---------------------------------------------------------------------------\u001B[0m",
      "\u001B[0;31mKeyboardInterrupt\u001B[0m                         Traceback (most recent call last)",
      "Input \u001B[0;32mIn [228]\u001B[0m, in \u001B[0;36m<cell line: 3>\u001B[0;34m()\u001B[0m\n\u001B[1;32m      1\u001B[0m d \u001B[38;5;241m=\u001B[39m \u001B[38;5;241m2\u001B[39m\n\u001B[1;32m      2\u001B[0m w \u001B[38;5;241m=\u001B[39m \u001B[38;5;241m1000\u001B[39m\n\u001B[0;32m----> 3\u001B[0m count_min_sketch \u001B[38;5;241m=\u001B[39m \u001B[43mCountMinSketch\u001B[49m\u001B[43m(\u001B[49m\u001B[43msource_ips\u001B[49m\u001B[43m,\u001B[49m\u001B[43m \u001B[49m\u001B[43md\u001B[49m\u001B[43m,\u001B[49m\u001B[43m \u001B[49m\u001B[43mw\u001B[49m\u001B[43m)\u001B[49m\n",
      "Input \u001B[0;32mIn [226]\u001B[0m, in \u001B[0;36mCountMinSketch.__init__\u001B[0;34m(self, stream, d, w, morris_sigma, morris_delta, use_morris_counters)\u001B[0m\n\u001B[1;32m      6\u001B[0m \u001B[38;5;28mself\u001B[39m\u001B[38;5;241m.\u001B[39muse_morris_counters \u001B[38;5;241m=\u001B[39m use_morris_counters\n\u001B[1;32m      7\u001B[0m \u001B[38;5;28mself\u001B[39m\u001B[38;5;241m.\u001B[39mhash_functions \u001B[38;5;241m=\u001B[39m init_hash_functions(d, w)\n\u001B[0;32m----> 8\u001B[0m \u001B[38;5;28mself\u001B[39m\u001B[38;5;241m.\u001B[39msketch \u001B[38;5;241m=\u001B[39m \u001B[38;5;28;43mself\u001B[39;49m\u001B[38;5;241;43m.\u001B[39;49m\u001B[43mcreate_sketch\u001B[49m\u001B[43m(\u001B[49m\u001B[43mstream\u001B[49m\u001B[43m,\u001B[49m\u001B[43m \u001B[49m\u001B[43md\u001B[49m\u001B[43m,\u001B[49m\u001B[43m \u001B[49m\u001B[43mw\u001B[49m\u001B[43m)\u001B[49m\n",
      "Input \u001B[0;32mIn [226]\u001B[0m, in \u001B[0;36mCountMinSketch.create_sketch\u001B[0;34m(self, stream, d, w)\u001B[0m\n\u001B[1;32m     17\u001B[0m \u001B[38;5;28;01mfor\u001B[39;00m k \u001B[38;5;129;01min\u001B[39;00m \u001B[38;5;28mrange\u001B[39m(\u001B[38;5;28mself\u001B[39m\u001B[38;5;241m.\u001B[39mmorris_estimators_num):\n\u001B[1;32m     18\u001B[0m     p \u001B[38;5;241m=\u001B[39m \u001B[38;5;241m1\u001B[39m \u001B[38;5;241m/\u001B[39m (\u001B[38;5;241m2\u001B[39m \u001B[38;5;241m*\u001B[39m\u001B[38;5;241m*\u001B[39m morris_estimators[k])\n\u001B[0;32m---> 19\u001B[0m     \u001B[38;5;28;01mif\u001B[39;00m p \u001B[38;5;241m>\u001B[39m\u001B[38;5;241m=\u001B[39m \u001B[43mnp\u001B[49m\u001B[38;5;241;43m.\u001B[39;49m\u001B[43mrandom\u001B[49m\u001B[38;5;241;43m.\u001B[39;49m\u001B[43muniform\u001B[49m\u001B[43m(\u001B[49m\u001B[38;5;241;43m0\u001B[39;49m\u001B[43m,\u001B[49m\u001B[43m \u001B[49m\u001B[38;5;241;43m1\u001B[39;49m\u001B[43m)\u001B[49m:\n\u001B[1;32m     20\u001B[0m         morris_estimators[k] \u001B[38;5;241m+\u001B[39m\u001B[38;5;241m=\u001B[39m \u001B[38;5;241m1\u001B[39m\n\u001B[1;32m     21\u001B[0m sketch[(j, hash_function[item])] \u001B[38;5;241m=\u001B[39m morris_estimators\n",
      "\u001B[0;31mKeyboardInterrupt\u001B[0m: "
     ]
    }
   ],
   "source": [
    "d = 2\n",
    "w = 1000\n",
    "count_min_sketch = CountMinSketch(source_ips, d, w)"
   ],
   "metadata": {
    "collapsed": false,
    "pycharm": {
     "name": "#%%\n"
    }
   }
  },
  {
   "cell_type": "code",
   "execution_count": null,
   "outputs": [],
   "source": [
    "evaluate_avg_bias(source_ips, count_min_sketch, true_frequencies)"
   ],
   "metadata": {
    "collapsed": false,
    "pycharm": {
     "name": "#%%\n"
    }
   }
  }
 ],
 "metadata": {
  "kernelspec": {
   "display_name": "Python 3",
   "language": "python",
   "name": "python3"
  },
  "language_info": {
   "codemirror_mode": {
    "name": "ipython",
    "version": 2
   },
   "file_extension": ".py",
   "mimetype": "text/x-python",
   "name": "python",
   "nbconvert_exporter": "python",
   "pygments_lexer": "ipython2",
   "version": "2.7.6"
  }
 },
 "nbformat": 4,
 "nbformat_minor": 0
}